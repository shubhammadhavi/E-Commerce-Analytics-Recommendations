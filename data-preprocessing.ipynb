{
 "cells": [
  {
   "cell_type": "code",
   "execution_count": 14,
   "id": "88c8f6f3-5aa6-4f50-a169-ffa1ddc55f1e",
   "metadata": {},
   "outputs": [],
   "source": [
    "import pandas as pd\n",
    "import numpy as np\n",
    "import matplotlib.pyplot as plt\n",
    "import seaborn as sns"
   ]
  },
  {
   "cell_type": "code",
   "execution_count": null,
   "id": "606c4bcf-9779-46e3-9b54-9ae4fdd43aaa",
   "metadata": {},
   "outputs": [],
   "source": [
    "# Load the dataset\n",
    "file_path = \"OnlineRetail.xlsx\"\n",
    "data = pd.read_excel(file_path)"
   ]
  },
  {
   "cell_type": "code",
   "execution_count": null,
   "id": "f4072de8-6f44-40e5-9f61-980b78decbf9",
   "metadata": {},
   "outputs": [],
   "source": [
    "\n",
    "# Display the first few rows\n",
    "print(data.head())\n",
    "\n",
    "\n"
   ]
  },
  {
   "cell_type": "code",
   "execution_count": null,
   "id": "d146e899-ead7-4b95-b757-f7902bc94c63",
   "metadata": {},
   "outputs": [],
   "source": [
    "# Check basic information about the dataset\n",
    "print(data.info())"
   ]
  },
  {
   "cell_type": "code",
   "execution_count": null,
   "id": "af9067a7-1db4-4b95-967a-c68890c1506e",
   "metadata": {},
   "outputs": [],
   "source": [
    "# Check for null values\n",
    "print(data.isnull().sum())\n",
    "\n",
    "# Summary statistics\n",
    "print(data.describe())\n"
   ]
  },
  {
   "cell_type": "code",
   "execution_count": null,
   "id": "6f02eda9-7422-47ac-ae29-11f3de1c0f81",
   "metadata": {},
   "outputs": [],
   "source": [
    "data = data.dropna(subset=['Description'])\n",
    "\n",
    "data = data.dropna(subset=['CustomerID'])\n"
   ]
  },
  {
   "cell_type": "code",
   "execution_count": null,
   "id": "e3cbefd9-497e-4f2e-b2d4-12fd6eacde6d",
   "metadata": {},
   "outputs": [],
   "source": [
    "# Check for null values\n",
    "print(data.isnull().sum())\n",
    "\n",
    "# Summary statistics\n",
    "print(data.describe())"
   ]
  },
  {
   "cell_type": "code",
   "execution_count": null,
   "id": "439c66fe-6803-43e8-8de6-dad1a47b3a5a",
   "metadata": {},
   "outputs": [],
   "source": [
    "# Remove transactions with Quantity <= 0 or UnitPrice <= 0\n",
    "data = data[(data['Quantity'] > 0) & (data['UnitPrice'] > 0)]"
   ]
  },
  {
   "cell_type": "code",
   "execution_count": null,
   "id": "224782be-efb6-444c-9010-d53b584354c0",
   "metadata": {},
   "outputs": [],
   "source": [
    "# Cap extreme values at the 99th percentile\n",
    "quantity_cap = data['Quantity'].quantile(0.99)\n",
    "price_cap = data['UnitPrice'].quantile(0.99)\n",
    "\n",
    "data['Quantity'] = data['Quantity'].clip(upper=quantity_cap)\n",
    "data['UnitPrice'] = data['UnitPrice'].clip(upper=price_cap)"
   ]
  },
  {
   "cell_type": "code",
   "execution_count": null,
   "id": "05c98e83-d15f-45fd-acb1-a245763e5c6b",
   "metadata": {},
   "outputs": [],
   "source": [
    "data['TotalPrice'] = data['Quantity'] * data['UnitPrice']\n"
   ]
  },
  {
   "cell_type": "code",
   "execution_count": null,
   "id": "081bcbcb-9ea8-438d-a144-5cde1a7152f6",
   "metadata": {},
   "outputs": [],
   "source": [
    "data['InvoiceYear'] = data['InvoiceDate'].dt.year\n",
    "data['InvoiceMonth'] = data['InvoiceDate'].dt.month\n",
    "data['InvoiceDay'] = data['InvoiceDate'].dt.day\n",
    "data['InvoiceHour'] = data['InvoiceDate'].dt.hour\n"
   ]
  },
  {
   "cell_type": "code",
   "execution_count": null,
   "id": "d60eeb6b-f861-443d-9db0-9e46be4f3343",
   "metadata": {},
   "outputs": [],
   "source": [
    "print(data.info())\n",
    "print(data.describe())\n"
   ]
  }
 ],
 "metadata": {
  "kernelspec": {
   "display_name": "Python 3 (ipykernel)",
   "language": "python",
   "name": "python3"
  },
  "language_info": {
   "codemirror_mode": {
    "name": "ipython",
    "version": 3
   },
   "file_extension": ".py",
   "mimetype": "text/x-python",
   "name": "python",
   "nbconvert_exporter": "python",
   "pygments_lexer": "ipython3",
   "version": "3.12.6"
  }
 },
 "nbformat": 4,
 "nbformat_minor": 5
}
